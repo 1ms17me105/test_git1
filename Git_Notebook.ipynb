{
 "cells": [
  {
   "cell_type": "code",
   "execution_count": 1,
   "id": "7b904d16-41fa-4c98-8f3b-c5e0a5a47079",
   "metadata": {
    "tags": []
   },
   "outputs": [],
   "source": [
    "import subprocess\n",
    "import datetime\n",
    "import os\n",
    "import re"
   ]
  },
  {
   "cell_type": "code",
   "execution_count": 2,
   "id": "032a18dc-9378-4e3f-bbe4-b8007c719891",
   "metadata": {
    "tags": []
   },
   "outputs": [
    {
     "data": {
      "text/plain": [
       "0"
      ]
     },
     "execution_count": 2,
     "metadata": {},
     "output_type": "execute_result"
    }
   ],
   "source": [
    "subprocess.call([\"git\", \"init\"])"
   ]
  },
  {
   "cell_type": "code",
   "execution_count": 4,
   "id": "6dd53830-b73b-43fc-9a2c-a9659c894aa0",
   "metadata": {
    "tags": []
   },
   "outputs": [
    {
     "name": "stdout",
     "output_type": "stream",
     "text": [
      "0\n"
     ]
    }
   ],
   "source": [
    "print(subprocess.call([\"git\", \"status\"]))"
   ]
  },
  {
   "cell_type": "code",
   "execution_count": 12,
   "id": "3ee692df-4172-4654-af81-dc216feadb61",
   "metadata": {
    "tags": []
   },
   "outputs": [],
   "source": [
    "PIPE = subprocess.PIPE\n",
    "\n",
    "process = subprocess.Popen(['git', 'status'], stdout=PIPE)\n",
    "stdoutput = process.communicate()"
   ]
  },
  {
   "cell_type": "code",
   "execution_count": 16,
   "id": "ac56dec1-c6e5-4234-b974-e65d25d321e2",
   "metadata": {
    "tags": []
   },
   "outputs": [
    {
     "name": "stdout",
     "output_type": "stream",
     "text": [
      "On branch main\n",
      "\n",
      "No commits yet\n",
      "\n",
      "Untracked files:\n",
      "  (use \"git add <file>...\" to include in what will be committed)\n",
      "\t.gitignore\n",
      "\tGit_Notebook.ipynb\n",
      "\n",
      "nothing added to commit but untracked files present (use \"git add\" to track)\n",
      "\n"
     ]
    }
   ],
   "source": [
    "print(stdoutput[0].decode(\"utf-8\"))"
   ]
  },
  {
   "cell_type": "code",
   "execution_count": 17,
   "id": "5b307522-62bf-4783-ad1f-0cd91f75c299",
   "metadata": {
    "tags": []
   },
   "outputs": [],
   "source": [
    "process = subprocess.Popen(['git', 'add', '.'], stdout=PIPE)\n",
    "git_add_output = process.communicate()"
   ]
  },
  {
   "cell_type": "code",
   "execution_count": 19,
   "id": "27f1f628-b08d-436e-951b-1883f34a29dd",
   "metadata": {
    "tags": []
   },
   "outputs": [
    {
     "name": "stdout",
     "output_type": "stream",
     "text": [
      "\n"
     ]
    }
   ],
   "source": [
    "print(git_add_output[0].decode(\"utf-8\"))"
   ]
  },
  {
   "cell_type": "code",
   "execution_count": 20,
   "id": "e020a4f8-f91f-4b41-8230-bb912b14b320",
   "metadata": {
    "tags": []
   },
   "outputs": [
    {
     "data": {
      "text/plain": [
       "(b'', None)"
      ]
     },
     "execution_count": 20,
     "metadata": {},
     "output_type": "execute_result"
    }
   ],
   "source": [
    "git_add_output"
   ]
  },
  {
   "cell_type": "code",
   "execution_count": 21,
   "id": "63db15ea-69ef-4ae8-b17b-952dfeb1336d",
   "metadata": {
    "tags": []
   },
   "outputs": [],
   "source": [
    "process = subprocess.Popen(['git', 'status'], stdout=PIPE)\n",
    "stdoutput = process.communicate()"
   ]
  },
  {
   "cell_type": "code",
   "execution_count": 22,
   "id": "f3734116-b451-482f-95ca-92665be997de",
   "metadata": {
    "tags": []
   },
   "outputs": [
    {
     "name": "stdout",
     "output_type": "stream",
     "text": [
      "On branch main\n",
      "\n",
      "No commits yet\n",
      "\n",
      "Changes to be committed:\n",
      "  (use \"git rm --cached <file>...\" to unstage)\n",
      "\tnew file:   .gitignore\n",
      "\tnew file:   Git_Notebook.ipynb\n",
      "\n",
      "Changes not staged for commit:\n",
      "  (use \"git add <file>...\" to update what will be committed)\n",
      "  (use \"git restore <file>...\" to discard changes in working directory)\n",
      "\tmodified:   Git_Notebook.ipynb\n",
      "\n",
      "\n"
     ]
    }
   ],
   "source": [
    "print(stdoutput[0].decode(\"utf-8\"))"
   ]
  },
  {
   "cell_type": "code",
   "execution_count": 112,
   "id": "1bf71f72-2dc2-4d3a-b1a1-7cc1a7df0599",
   "metadata": {
    "tags": []
   },
   "outputs": [],
   "source": [
    "process = subprocess.Popen(['git', 'remote', 'add', 'origin', 'https://github.com/1ms17me105/test_git1.git'], stdout=PIPE)\n",
    "git_remote_connect = process.communicate()"
   ]
  },
  {
   "cell_type": "code",
   "execution_count": 28,
   "id": "1366fd86-75d1-482e-8239-6d83782167fc",
   "metadata": {
    "tags": []
   },
   "outputs": [
    {
     "data": {
      "text/plain": [
       "True"
      ]
     },
     "execution_count": 28,
     "metadata": {},
     "output_type": "execute_result"
    }
   ],
   "source": [
    "git_remote_connect[0] == b''"
   ]
  },
  {
   "cell_type": "code",
   "execution_count": 29,
   "id": "47ea26ff-af89-4a65-a6da-960380c3fc31",
   "metadata": {
    "tags": []
   },
   "outputs": [],
   "source": [
    "process = subprocess.Popen(['git', 'commit', '-m', '''\"first_commit\"'''], stdout=PIPE)\n",
    "git_commit = process.communicate()"
   ]
  },
  {
   "cell_type": "code",
   "execution_count": 32,
   "id": "9ace2d0e-3be8-45e0-972d-f319ca882144",
   "metadata": {
    "tags": []
   },
   "outputs": [
    {
     "name": "stdout",
     "output_type": "stream",
     "text": [
      "[main (root-commit) 94486e2] \"first_commit\"\n",
      " 2 files changed, 134 insertions(+)\n",
      " create mode 100644 .gitignore\n",
      " create mode 100644 Git_Notebook.ipynb\n",
      "\n"
     ]
    }
   ],
   "source": [
    "print(git_commit[0].decode(\"utf-8\"))"
   ]
  },
  {
   "cell_type": "code",
   "execution_count": 33,
   "id": "dff57856-b924-445d-bbd7-3f46ab702c1d",
   "metadata": {
    "tags": []
   },
   "outputs": [],
   "source": [
    "process = subprocess.Popen(['git', 'push', '-u', 'origin', 'main'], stdout=PIPE)\n",
    "git_push = process.communicate()"
   ]
  },
  {
   "cell_type": "code",
   "execution_count": 34,
   "id": "48eb1b2c-83cf-448f-8528-3fc3a0f963f0",
   "metadata": {
    "tags": []
   },
   "outputs": [
    {
     "name": "stdout",
     "output_type": "stream",
     "text": [
      "branch 'main' set up to track 'origin/main'.\n",
      "\n"
     ]
    }
   ],
   "source": [
    "print(git_push[0].decode(\"utf-8\"))"
   ]
  },
  {
   "cell_type": "code",
   "execution_count": 35,
   "id": "5c637f2f-a840-4593-b805-3fbc2d399cd8",
   "metadata": {
    "tags": []
   },
   "outputs": [],
   "source": [
    "process = subprocess.Popen(['git', 'status'], stdout=PIPE)\n",
    "stdoutput = process.communicate()"
   ]
  },
  {
   "cell_type": "code",
   "execution_count": 36,
   "id": "9a3f7160-fe1f-4d9f-9bd8-c23279a33485",
   "metadata": {
    "tags": []
   },
   "outputs": [
    {
     "name": "stdout",
     "output_type": "stream",
     "text": [
      "On branch main\n",
      "Your branch is up to date with 'origin/main'.\n",
      "\n",
      "Changes not staged for commit:\n",
      "  (use \"git add <file>...\" to update what will be committed)\n",
      "  (use \"git restore <file>...\" to discard changes in working directory)\n",
      "\tmodified:   Git_Notebook.ipynb\n",
      "\n",
      "no changes added to commit (use \"git add\" and/or \"git commit -a\")\n",
      "\n"
     ]
    }
   ],
   "source": [
    "print(stdoutput[0].decode(\"utf-8\"))"
   ]
  },
  {
   "cell_type": "code",
   "execution_count": 39,
   "id": "c34f1dd3-35f3-4265-9dd7-63f0e59db202",
   "metadata": {
    "tags": []
   },
   "outputs": [],
   "source": [
    "def git_status():\n",
    "    process = subprocess.Popen(['git', 'status'], stdout=PIPE)\n",
    "    git_status_message = process.communicate()\n",
    "    message = git_status_message[0].decode(\"utf-8\")\n",
    "    return message"
   ]
  },
  {
   "cell_type": "code",
   "execution_count": 41,
   "id": "3e4dcc6b-ab76-4348-9336-6cc179a764f0",
   "metadata": {
    "tags": []
   },
   "outputs": [
    {
     "name": "stdout",
     "output_type": "stream",
     "text": [
      "On branch main\n",
      "Your branch is up to date with 'origin/main'.\n",
      "\n",
      "Changes not staged for commit:\n",
      "  (use \"git add <file>...\" to update what will be committed)\n",
      "  (use \"git restore <file>...\" to discard changes in working directory)\n",
      "\tmodified:   Git_Notebook.ipynb\n",
      "\n",
      "no changes added to commit (use \"git add\" and/or \"git commit -a\")\n",
      "\n"
     ]
    }
   ],
   "source": [
    "print(git_status())"
   ]
  },
  {
   "cell_type": "code",
   "execution_count": 42,
   "id": "f9613ee4-a2ea-457b-8a22-a7d85b2932fe",
   "metadata": {
    "tags": []
   },
   "outputs": [],
   "source": [
    "def git_add():\n",
    "    process = subprocess.Popen(['git', 'add', '.'], stdout=PIPE)\n",
    "    git_add_output = process.communicate()\n",
    "    return git_add_output[0].decode(\"utf-8\")"
   ]
  },
  {
   "cell_type": "code",
   "execution_count": 43,
   "id": "98044275-0404-421e-b2a3-5f52f82644d7",
   "metadata": {
    "tags": []
   },
   "outputs": [
    {
     "name": "stdout",
     "output_type": "stream",
     "text": [
      "\n"
     ]
    }
   ],
   "source": [
    "print(git_add())"
   ]
  },
  {
   "cell_type": "code",
   "execution_count": 44,
   "id": "1e1cfb8e-dde0-4946-ac2e-0f1f1f390cb5",
   "metadata": {
    "tags": []
   },
   "outputs": [
    {
     "name": "stdout",
     "output_type": "stream",
     "text": [
      "On branch main\n",
      "Your branch is up to date with 'origin/main'.\n",
      "\n",
      "Changes to be committed:\n",
      "  (use \"git restore --staged <file>...\" to unstage)\n",
      "\tmodified:   Git_Notebook.ipynb\n",
      "\n",
      "\n"
     ]
    }
   ],
   "source": [
    "print(git_status())"
   ]
  },
  {
   "cell_type": "code",
   "execution_count": 48,
   "id": "5344df55-de9d-4ed6-9687-1099ddbcfbb2",
   "metadata": {
    "tags": []
   },
   "outputs": [],
   "source": [
    "def git_commit():\n",
    "    process = subprocess.Popen(['git', 'commit', '-m', f'{datetime.datetime.now()}'], stdout=PIPE)\n",
    "    git_commit = process.communicate()\n",
    "    return git_commit[0].decode(\"utf-8\")"
   ]
  },
  {
   "cell_type": "code",
   "execution_count": 49,
   "id": "24daceaf-083f-4ff2-9b43-6e869f68994f",
   "metadata": {
    "tags": []
   },
   "outputs": [
    {
     "name": "stdout",
     "output_type": "stream",
     "text": [
      "On branch main\n",
      "Your branch is ahead of 'origin/main' by 1 commit.\n",
      "  (use \"git push\" to publish your local commits)\n",
      "\n",
      "Changes not staged for commit:\n",
      "  (use \"git add <file>...\" to update what will be committed)\n",
      "  (use \"git restore <file>...\" to discard changes in working directory)\n",
      "\tmodified:   Git_Notebook.ipynb\n",
      "\n",
      "no changes added to commit (use \"git add\" and/or \"git commit -a\")\n",
      "\n"
     ]
    }
   ],
   "source": [
    "print(git_commit())"
   ]
  },
  {
   "cell_type": "code",
   "execution_count": 50,
   "id": "b2cfa447-48a8-4274-9b1a-102cd4a4c755",
   "metadata": {
    "tags": []
   },
   "outputs": [
    {
     "name": "stdout",
     "output_type": "stream",
     "text": [
      "\n"
     ]
    }
   ],
   "source": [
    "print(git_add())"
   ]
  },
  {
   "cell_type": "code",
   "execution_count": 51,
   "id": "1f6478bb-b188-493e-85f9-02062c2d1899",
   "metadata": {
    "tags": []
   },
   "outputs": [
    {
     "name": "stdout",
     "output_type": "stream",
     "text": [
      "On branch main\n",
      "Your branch is ahead of 'origin/main' by 1 commit.\n",
      "  (use \"git push\" to publish your local commits)\n",
      "\n",
      "Changes to be committed:\n",
      "  (use \"git restore --staged <file>...\" to unstage)\n",
      "\tmodified:   Git_Notebook.ipynb\n",
      "\n",
      "\n"
     ]
    }
   ],
   "source": [
    "print(git_status())"
   ]
  },
  {
   "cell_type": "code",
   "execution_count": 52,
   "id": "a4d9650c-8943-4705-a3a1-e8ec3e1fd8d3",
   "metadata": {
    "tags": []
   },
   "outputs": [
    {
     "name": "stdout",
     "output_type": "stream",
     "text": [
      "[main 0110c65] 2023-06-02 01:16:50.210342\n",
      " 1 file changed, 103 insertions(+), 3 deletions(-)\n",
      "\n"
     ]
    }
   ],
   "source": [
    "print(git_commit())"
   ]
  },
  {
   "cell_type": "code",
   "execution_count": 53,
   "id": "9090a739-91cf-46a3-825f-182cf44f494b",
   "metadata": {
    "tags": []
   },
   "outputs": [],
   "source": [
    "def git_push():\n",
    "    process = subprocess.Popen(['git', 'push', '-u', 'origin', 'main'], stdout=PIPE)\n",
    "    git_push = process.communicate()\n",
    "    return git_push[0].decode(\"utf-8\")"
   ]
  },
  {
   "cell_type": "code",
   "execution_count": 54,
   "id": "7da35bf4-672f-43df-b896-3dcb0d4126ac",
   "metadata": {
    "tags": []
   },
   "outputs": [
    {
     "name": "stdout",
     "output_type": "stream",
     "text": [
      "branch 'main' set up to track 'origin/main'.\n",
      "\n"
     ]
    }
   ],
   "source": [
    "print(git_push())"
   ]
  },
  {
   "cell_type": "code",
   "execution_count": 108,
   "id": "a92a5309-c2b2-4a3c-a771-ea43cd8cf3a9",
   "metadata": {
    "tags": []
   },
   "outputs": [
    {
     "name": "stdout",
     "output_type": "stream",
     "text": [
      "On branch main\n",
      "Your branch is up to date with 'origin/main'.\n",
      "\n",
      "Changes to be committed:\n",
      "  (use \"git restore --staged <file>...\" to unstage)\n",
      "\tmodified:   Git_Notebook.ipynb\n",
      "\tnew file:   main.py\n",
      "\tnew file:   trial_code1.py\n",
      "\n",
      "Changes not staged for commit:\n",
      "  (use \"git add <file>...\" to update what will be committed)\n",
      "  (use \"git restore <file>...\" to discard changes in working directory)\n",
      "\tmodified:   Git_Notebook.ipynb\n",
      "\n",
      "\n"
     ]
    }
   ],
   "source": [
    "print(git_status())"
   ]
  },
  {
   "cell_type": "code",
   "execution_count": 58,
   "id": "80d16a5e-3c04-4f28-9261-0d2e778abb37",
   "metadata": {
    "tags": []
   },
   "outputs": [],
   "source": [
    "if os.path.isdir(\".git\"):\n",
    "    print(\"hello\")"
   ]
  },
  {
   "cell_type": "code",
   "execution_count": 72,
   "id": "9aef5b74-67e3-41e3-9055-db2adb3b900f",
   "metadata": {
    "tags": []
   },
   "outputs": [],
   "source": [
    "x = git_status()"
   ]
  },
  {
   "cell_type": "code",
   "execution_count": 94,
   "id": "a4f5625b-34e9-4f4b-aa4a-fc5a88ddb1fd",
   "metadata": {
    "tags": []
   },
   "outputs": [
    {
     "name": "stdout",
     "output_type": "stream",
     "text": [
      "xdd\n"
     ]
    }
   ],
   "source": [
    "if re.search(r'\\nChanges not staged for commit:\\n', x):\n",
    "    print('xdd')"
   ]
  },
  {
   "cell_type": "code",
   "execution_count": 98,
   "id": "6bfbad07-9a06-4884-88e3-eac159c165c5",
   "metadata": {
    "tags": []
   },
   "outputs": [
    {
     "data": {
      "text/plain": [
       "'On branch main\\nYour branch is up to date with \\'origin/main\\'.\\n\\nChanges not staged for commit:\\n  (use \"git add <file>...\" to update what will be committed)\\n  (use \"git restore <file>...\" to discard changes in working directory)\\n\\tmodified:   Git_Notebook.ipynb\\n\\nUntracked files:\\n  (use \"git add <file>...\" to include in what will be committed)\\n\\tmain.py\\n\\ttrial_code1.py\\n\\nno changes added to commit (use \"git add\" and/or \"git commit -a\")\\n'"
      ]
     },
     "execution_count": 98,
     "metadata": {},
     "output_type": "execute_result"
    }
   ],
   "source": [
    "x"
   ]
  },
  {
   "cell_type": "code",
   "execution_count": 89,
   "id": "a23cdb9d-3aef-4fda-a92b-8a41dba150da",
   "metadata": {
    "tags": []
   },
   "outputs": [
    {
     "name": "stdout",
     "output_type": "stream",
     "text": [
      "xdd\n"
     ]
    }
   ],
   "source": [
    "y = 'He is good'\n",
    "if re.search(r'', y):\n",
    "    print('xdd')"
   ]
  },
  {
   "cell_type": "code",
   "execution_count": 96,
   "id": "8c77a068-5f40-4a5e-af3a-556d957dd2f9",
   "metadata": {
    "tags": []
   },
   "outputs": [],
   "source": [
    "def xx():\n",
    "    return 'xdd'"
   ]
  },
  {
   "cell_type": "code",
   "execution_count": 97,
   "id": "df2e2d00-e7e5-4765-baab-8cd0c9edb32a",
   "metadata": {
    "tags": []
   },
   "outputs": [
    {
     "data": {
      "text/plain": [
       "'xdd'"
      ]
     },
     "execution_count": 97,
     "metadata": {},
     "output_type": "execute_result"
    }
   ],
   "source": [
    "xx()"
   ]
  },
  {
   "cell_type": "code",
   "execution_count": 113,
   "id": "7de8f176-3a3b-4306-91f7-c3f1b5f0bb13",
   "metadata": {
    "tags": []
   },
   "outputs": [],
   "source": [
    "process = subprocess.Popen(['git', 'remote', 'add', 'origin', 'xdd'], stdout=PIPE, stderr=PIPE)\n",
    "git_remote_connect, error = process.communicate()"
   ]
  },
  {
   "cell_type": "code",
   "execution_count": 115,
   "id": "7268c732-8b1d-437d-9d4d-d8df657ac431",
   "metadata": {
    "tags": []
   },
   "outputs": [
    {
     "name": "stdout",
     "output_type": "stream",
     "text": [
      "\n"
     ]
    }
   ],
   "source": [
    "print(git_remote_connect.decode(\"utf-8\"))"
   ]
  },
  {
   "cell_type": "code",
   "execution_count": 121,
   "id": "e16df2cd-57ab-4f71-bd17-c3dd631b74c8",
   "metadata": {
    "tags": []
   },
   "outputs": [
    {
     "name": "stdout",
     "output_type": "stream",
     "text": [
      "b''\n"
     ]
    }
   ],
   "source": [
    "print(git_remote_connect)"
   ]
  },
  {
   "cell_type": "code",
   "execution_count": 124,
   "id": "3093c5b1-7ce2-4683-bb2f-712978c4da93",
   "metadata": {
    "tags": []
   },
   "outputs": [
    {
     "data": {
      "text/plain": [
       "True"
      ]
     },
     "execution_count": 124,
     "metadata": {},
     "output_type": "execute_result"
    }
   ],
   "source": [
    "git_remote_connect.decode(\"utf-8\") == ''"
   ]
  },
  {
   "cell_type": "code",
   "execution_count": 117,
   "id": "f27150b8-cf42-440b-a3d5-ae091f1ee3ef",
   "metadata": {
    "tags": []
   },
   "outputs": [
    {
     "data": {
      "text/plain": [
       "b'error: remote origin already exists.\\n'"
      ]
     },
     "execution_count": 117,
     "metadata": {},
     "output_type": "execute_result"
    }
   ],
   "source": [
    "error"
   ]
  },
  {
   "cell_type": "code",
   "execution_count": 118,
   "id": "37adc724-86d7-4d66-9d97-d5427a3b5829",
   "metadata": {
    "tags": []
   },
   "outputs": [],
   "source": [
    "x = {'a': 1, 'b': 2}"
   ]
  },
  {
   "cell_type": "code",
   "execution_count": 120,
   "id": "0de355b9-a111-4edf-96ca-2eabc9bb3b46",
   "metadata": {
    "tags": []
   },
   "outputs": [
    {
     "data": {
      "text/plain": [
       "1"
      ]
     },
     "execution_count": 120,
     "metadata": {},
     "output_type": "execute_result"
    }
   ],
   "source": [
    "x['a']"
   ]
  },
  {
   "cell_type": "code",
   "execution_count": null,
   "id": "ce4fbbeb-ba64-4e56-87fd-3d079c5224ab",
   "metadata": {},
   "outputs": [],
   "source": []
  }
 ],
 "metadata": {
  "kernelspec": {
   "display_name": "Python 3 (ipykernel)",
   "language": "python",
   "name": "python3"
  },
  "language_info": {
   "codemirror_mode": {
    "name": "ipython",
    "version": 3
   },
   "file_extension": ".py",
   "mimetype": "text/x-python",
   "name": "python",
   "nbconvert_exporter": "python",
   "pygments_lexer": "ipython3",
   "version": "3.10.8"
  }
 },
 "nbformat": 4,
 "nbformat_minor": 5
}
