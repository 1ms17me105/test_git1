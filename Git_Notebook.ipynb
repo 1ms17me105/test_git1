{
 "cells": [
  {
   "cell_type": "code",
   "execution_count": 1,
   "id": "7b904d16-41fa-4c98-8f3b-c5e0a5a47079",
   "metadata": {
    "tags": []
   },
   "outputs": [],
   "source": [
    "import subprocess"
   ]
  },
  {
   "cell_type": "code",
   "execution_count": 2,
   "id": "032a18dc-9378-4e3f-bbe4-b8007c719891",
   "metadata": {
    "tags": []
   },
   "outputs": [
    {
     "data": {
      "text/plain": [
       "0"
      ]
     },
     "execution_count": 2,
     "metadata": {},
     "output_type": "execute_result"
    }
   ],
   "source": [
    "subprocess.call([\"git\", \"init\"])"
   ]
  },
  {
   "cell_type": "code",
   "execution_count": 4,
   "id": "6dd53830-b73b-43fc-9a2c-a9659c894aa0",
   "metadata": {
    "tags": []
   },
   "outputs": [
    {
     "name": "stdout",
     "output_type": "stream",
     "text": [
      "0\n"
     ]
    }
   ],
   "source": [
    "print(subprocess.call([\"git\", \"status\"]))"
   ]
  },
  {
   "cell_type": "code",
   "execution_count": 12,
   "id": "3ee692df-4172-4654-af81-dc216feadb61",
   "metadata": {
    "tags": []
   },
   "outputs": [],
   "source": [
    "PIPE = subprocess.PIPE\n",
    "\n",
    "process = subprocess.Popen(['git', 'status'], stdout=PIPE)\n",
    "stdoutput = process.communicate()"
   ]
  },
  {
   "cell_type": "code",
   "execution_count": 16,
   "id": "ac56dec1-c6e5-4234-b974-e65d25d321e2",
   "metadata": {
    "tags": []
   },
   "outputs": [
    {
     "name": "stdout",
     "output_type": "stream",
     "text": [
      "On branch main\n",
      "\n",
      "No commits yet\n",
      "\n",
      "Untracked files:\n",
      "  (use \"git add <file>...\" to include in what will be committed)\n",
      "\t.gitignore\n",
      "\tGit_Notebook.ipynb\n",
      "\n",
      "nothing added to commit but untracked files present (use \"git add\" to track)\n",
      "\n"
     ]
    }
   ],
   "source": [
    "print(stdoutput[0].decode(\"utf-8\"))"
   ]
  },
  {
   "cell_type": "code",
   "execution_count": null,
   "id": "5b307522-62bf-4783-ad1f-0cd91f75c299",
   "metadata": {},
   "outputs": [],
   "source": []
  }
 ],
 "metadata": {
  "kernelspec": {
   "display_name": "Python 3 (ipykernel)",
   "language": "python",
   "name": "python3"
  },
  "language_info": {
   "codemirror_mode": {
    "name": "ipython",
    "version": 3
   },
   "file_extension": ".py",
   "mimetype": "text/x-python",
   "name": "python",
   "nbconvert_exporter": "python",
   "pygments_lexer": "ipython3",
   "version": "3.10.10"
  }
 },
 "nbformat": 4,
 "nbformat_minor": 5
}
