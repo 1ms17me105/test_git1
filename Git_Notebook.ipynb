{
 "cells": [
  {
   "cell_type": "code",
   "execution_count": 1,
   "id": "7b904d16-41fa-4c98-8f3b-c5e0a5a47079",
   "metadata": {
    "tags": []
   },
   "outputs": [],
   "source": [
    "import subprocess"
   ]
  },
  {
   "cell_type": "code",
   "execution_count": 2,
   "id": "032a18dc-9378-4e3f-bbe4-b8007c719891",
   "metadata": {
    "tags": []
   },
   "outputs": [
    {
     "data": {
      "text/plain": [
       "0"
      ]
     },
     "execution_count": 2,
     "metadata": {},
     "output_type": "execute_result"
    }
   ],
   "source": [
    "subprocess.call([\"git\", \"init\"])"
   ]
  },
  {
   "cell_type": "code",
   "execution_count": 4,
   "id": "6dd53830-b73b-43fc-9a2c-a9659c894aa0",
   "metadata": {
    "tags": []
   },
   "outputs": [
    {
     "name": "stdout",
     "output_type": "stream",
     "text": [
      "0\n"
     ]
    }
   ],
   "source": [
    "print(subprocess.call([\"git\", \"status\"]))"
   ]
  },
  {
   "cell_type": "code",
   "execution_count": 12,
   "id": "3ee692df-4172-4654-af81-dc216feadb61",
   "metadata": {
    "tags": []
   },
   "outputs": [],
   "source": [
    "PIPE = subprocess.PIPE\n",
    "\n",
    "process = subprocess.Popen(['git', 'status'], stdout=PIPE)\n",
    "stdoutput = process.communicate()"
   ]
  },
  {
   "cell_type": "code",
   "execution_count": 16,
   "id": "ac56dec1-c6e5-4234-b974-e65d25d321e2",
   "metadata": {
    "tags": []
   },
   "outputs": [
    {
     "name": "stdout",
     "output_type": "stream",
     "text": [
      "On branch main\n",
      "\n",
      "No commits yet\n",
      "\n",
      "Untracked files:\n",
      "  (use \"git add <file>...\" to include in what will be committed)\n",
      "\t.gitignore\n",
      "\tGit_Notebook.ipynb\n",
      "\n",
      "nothing added to commit but untracked files present (use \"git add\" to track)\n",
      "\n"
     ]
    }
   ],
   "source": [
    "print(stdoutput[0].decode(\"utf-8\"))"
   ]
  },
  {
   "cell_type": "code",
   "execution_count": 17,
   "id": "5b307522-62bf-4783-ad1f-0cd91f75c299",
   "metadata": {
    "tags": []
   },
   "outputs": [],
   "source": [
    "process = subprocess.Popen(['git', 'add', '.'], stdout=PIPE)\n",
    "git_add_output = process.communicate()"
   ]
  },
  {
   "cell_type": "code",
   "execution_count": 19,
   "id": "27f1f628-b08d-436e-951b-1883f34a29dd",
   "metadata": {
    "tags": []
   },
   "outputs": [
    {
     "name": "stdout",
     "output_type": "stream",
     "text": [
      "\n"
     ]
    }
   ],
   "source": [
    "print(git_add_output[0].decode(\"utf-8\"))"
   ]
  },
  {
   "cell_type": "code",
   "execution_count": 20,
   "id": "e020a4f8-f91f-4b41-8230-bb912b14b320",
   "metadata": {
    "tags": []
   },
   "outputs": [
    {
     "data": {
      "text/plain": [
       "(b'', None)"
      ]
     },
     "execution_count": 20,
     "metadata": {},
     "output_type": "execute_result"
    }
   ],
   "source": [
    "git_add_output"
   ]
  },
  {
   "cell_type": "code",
   "execution_count": 21,
   "id": "63db15ea-69ef-4ae8-b17b-952dfeb1336d",
   "metadata": {
    "tags": []
   },
   "outputs": [],
   "source": [
    "process = subprocess.Popen(['git', 'status'], stdout=PIPE)\n",
    "stdoutput = process.communicate()"
   ]
  },
  {
   "cell_type": "code",
   "execution_count": 22,
   "id": "f3734116-b451-482f-95ca-92665be997de",
   "metadata": {
    "tags": []
   },
   "outputs": [
    {
     "name": "stdout",
     "output_type": "stream",
     "text": [
      "On branch main\n",
      "\n",
      "No commits yet\n",
      "\n",
      "Changes to be committed:\n",
      "  (use \"git rm --cached <file>...\" to unstage)\n",
      "\tnew file:   .gitignore\n",
      "\tnew file:   Git_Notebook.ipynb\n",
      "\n",
      "Changes not staged for commit:\n",
      "  (use \"git add <file>...\" to update what will be committed)\n",
      "  (use \"git restore <file>...\" to discard changes in working directory)\n",
      "\tmodified:   Git_Notebook.ipynb\n",
      "\n",
      "\n"
     ]
    }
   ],
   "source": [
    "print(stdoutput[0].decode(\"utf-8\"))"
   ]
  },
  {
   "cell_type": "code",
   "execution_count": 23,
   "id": "1bf71f72-2dc2-4d3a-b1a1-7cc1a7df0599",
   "metadata": {
    "tags": []
   },
   "outputs": [],
   "source": [
    "process = subprocess.Popen(['git', 'remote', 'add', 'origin', 'https://github.com/1ms17me105/test_git1.git'], stdout=PIPE)\n",
    "git_remote_connect = process.communicate()"
   ]
  },
  {
   "cell_type": "code",
   "execution_count": 28,
   "id": "1366fd86-75d1-482e-8239-6d83782167fc",
   "metadata": {
    "tags": []
   },
   "outputs": [
    {
     "data": {
      "text/plain": [
       "True"
      ]
     },
     "execution_count": 28,
     "metadata": {},
     "output_type": "execute_result"
    }
   ],
   "source": [
    "git_remote_connect[0] == b''"
   ]
  },
  {
   "cell_type": "code",
   "execution_count": 29,
   "id": "47ea26ff-af89-4a65-a6da-960380c3fc31",
   "metadata": {
    "tags": []
   },
   "outputs": [],
   "source": [
    "process = subprocess.Popen(['git', 'commit', '-m', '''\"first_commit\"'''], stdout=PIPE)\n",
    "git_commit = process.communicate()"
   ]
  },
  {
   "cell_type": "code",
   "execution_count": 32,
   "id": "9ace2d0e-3be8-45e0-972d-f319ca882144",
   "metadata": {
    "tags": []
   },
   "outputs": [
    {
     "name": "stdout",
     "output_type": "stream",
     "text": [
      "[main (root-commit) 94486e2] \"first_commit\"\n",
      " 2 files changed, 134 insertions(+)\n",
      " create mode 100644 .gitignore\n",
      " create mode 100644 Git_Notebook.ipynb\n",
      "\n"
     ]
    }
   ],
   "source": [
    "print(git_commit[0].decode(\"utf-8\"))"
   ]
  },
  {
   "cell_type": "code",
   "execution_count": 33,
   "id": "dff57856-b924-445d-bbd7-3f46ab702c1d",
   "metadata": {
    "tags": []
   },
   "outputs": [],
   "source": [
    "process = subprocess.Popen(['git', 'push', '-u', 'origin', 'main'], stdout=PIPE)\n",
    "git_push = process.communicate()"
   ]
  },
  {
   "cell_type": "code",
   "execution_count": 34,
   "id": "48eb1b2c-83cf-448f-8528-3fc3a0f963f0",
   "metadata": {
    "tags": []
   },
   "outputs": [
    {
     "name": "stdout",
     "output_type": "stream",
     "text": [
      "branch 'main' set up to track 'origin/main'.\n",
      "\n"
     ]
    }
   ],
   "source": [
    "print(git_push[0].decode(\"utf-8\"))"
   ]
  },
  {
   "cell_type": "code",
   "execution_count": 35,
   "id": "5c637f2f-a840-4593-b805-3fbc2d399cd8",
   "metadata": {
    "tags": []
   },
   "outputs": [],
   "source": [
    "process = subprocess.Popen(['git', 'status'], stdout=PIPE)\n",
    "stdoutput = process.communicate()"
   ]
  },
  {
   "cell_type": "code",
   "execution_count": 36,
   "id": "9a3f7160-fe1f-4d9f-9bd8-c23279a33485",
   "metadata": {
    "tags": []
   },
   "outputs": [
    {
     "name": "stdout",
     "output_type": "stream",
     "text": [
      "On branch main\n",
      "Your branch is up to date with 'origin/main'.\n",
      "\n",
      "Changes not staged for commit:\n",
      "  (use \"git add <file>...\" to update what will be committed)\n",
      "  (use \"git restore <file>...\" to discard changes in working directory)\n",
      "\tmodified:   Git_Notebook.ipynb\n",
      "\n",
      "no changes added to commit (use \"git add\" and/or \"git commit -a\")\n",
      "\n"
     ]
    }
   ],
   "source": [
    "print(stdoutput[0].decode(\"utf-8\"))"
   ]
  },
  {
   "cell_type": "code",
   "execution_count": 39,
   "id": "c34f1dd3-35f3-4265-9dd7-63f0e59db202",
   "metadata": {
    "tags": []
   },
   "outputs": [],
   "source": [
    "def git_status():\n",
    "    process = subprocess.Popen(['git', 'status'], stdout=PIPE)\n",
    "    git_status_message = process.communicate()\n",
    "    message = git_status_message[0].decode(\"utf-8\")\n",
    "    return message"
   ]
  },
  {
   "cell_type": "code",
   "execution_count": 41,
   "id": "3e4dcc6b-ab76-4348-9336-6cc179a764f0",
   "metadata": {
    "tags": []
   },
   "outputs": [
    {
     "name": "stdout",
     "output_type": "stream",
     "text": [
      "On branch main\n",
      "Your branch is up to date with 'origin/main'.\n",
      "\n",
      "Changes not staged for commit:\n",
      "  (use \"git add <file>...\" to update what will be committed)\n",
      "  (use \"git restore <file>...\" to discard changes in working directory)\n",
      "\tmodified:   Git_Notebook.ipynb\n",
      "\n",
      "no changes added to commit (use \"git add\" and/or \"git commit -a\")\n",
      "\n"
     ]
    }
   ],
   "source": [
    "print(git_status())"
   ]
  },
  {
   "cell_type": "code",
   "execution_count": null,
   "id": "f9613ee4-a2ea-457b-8a22-a7d85b2932fe",
   "metadata": {},
   "outputs": [],
   "source": []
  }
 ],
 "metadata": {
  "kernelspec": {
   "display_name": "Python 3 (ipykernel)",
   "language": "python",
   "name": "python3"
  },
  "language_info": {
   "codemirror_mode": {
    "name": "ipython",
    "version": 3
   },
   "file_extension": ".py",
   "mimetype": "text/x-python",
   "name": "python",
   "nbconvert_exporter": "python",
   "pygments_lexer": "ipython3",
   "version": "3.10.10"
  }
 },
 "nbformat": 4,
 "nbformat_minor": 5
}
